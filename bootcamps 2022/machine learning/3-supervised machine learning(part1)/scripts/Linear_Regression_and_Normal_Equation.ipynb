{
  "nbformat": 4,
  "nbformat_minor": 0,
  "metadata": {
    "colab": {
      "name": "Linear Regression and Normal Equation",
      "provenance": [],
      "collapsed_sections": []
    },
    "kernelspec": {
      "name": "python3",
      "display_name": "Python 3"
    },
    "language_info": {
      "name": "python"
    }
  },
  "cells": [
    {
      "cell_type": "code",
      "execution_count": 44,
      "metadata": {
        "colab": {
          "base_uri": "https://localhost:8080/"
        },
        "id": "BsBW_xDXxYLi",
        "outputId": "1f3ed942-bdfa-4c4b-fc52-4b6d8fa23088"
      },
      "outputs": [
        {
          "output_type": "stream",
          "name": "stdout",
          "text": [
            "Done Training\n"
          ]
        }
      ],
      "source": [
        "import numpy as np\n",
        "import pandas as pd\n",
        "import matplotlib.pyplot as plt\n",
        "from sklearn import metrics\n",
        "from sklearn.linear_model import LinearRegression\n",
        "\n",
        "\n",
        "Input = pd.read_csv(\"Input.csv\")\n",
        "X = np.array(Input)\n",
        "\n",
        "\n",
        "Output = pd.read_csv(\"Output.csv\")\n",
        "Y = np.array(Output)\n",
        "\n",
        "model = LinearRegression(fit_intercept=True).fit(X,Y)\n",
        "print(\"Done Training\")"
      ]
    },
    {
      "cell_type": "markdown",
      "source": [
        "## Hypothesis Function"
      ],
      "metadata": {
        "id": "Z4JFi2qS1TOF"
      }
    },
    {
      "cell_type": "code",
      "source": [
        "score = model.score(X, Y)\n",
        "print(f\"accuracy: {score}\")\n",
        "y_pred = model.predict(X)\n",
        "plt.scatter(X, Y,c=\"r\",label=\"Houses\",marker= \"*\", s=15)\n",
        "plt.plot(X, y_pred, c=\"blue\",label=\"hypothesis\")\n",
        "plt.xlabel('Size') \n",
        "plt.ylabel('Price') \n",
        "plt.legend()\n",
        "plt.title('Hypothesis function') \n",
        "plt.show()\n"
      ],
      "metadata": {
        "colab": {
          "base_uri": "https://localhost:8080/",
          "height": 313
        },
        "id": "Tbdz-op9zdZw",
        "outputId": "68446d92-c371-472e-c2e2-dd559cb54b5d"
      },
      "execution_count": 45,
      "outputs": [
        {
          "output_type": "stream",
          "name": "stdout",
          "text": [
            "accuracy: 0.7606583419339847\n"
          ]
        },
        {
          "output_type": "display_data",
          "data": {
            "text/plain": [
              "<Figure size 432x288 with 1 Axes>"
            ],
            "image/png": "[encoded data removed]"
          },
          "metadata": {
            "needs_background": "light"
          }
        }
      ]
    },
    {
      "cell_type": "code",
      "source": [
        "cost = (1/(2*len(X)))*np.sum(np.square(y_pred - Y))\n",
        "cost"
      ],
      "metadata": {
        "colab": {
          "base_uri": "https://localhost:8080/"
        },
        "id": "3oQPwYd2Rby1",
        "outputId": "208f1272-2a87-4d0c-b73b-b1bc0bb9b39b"
      },
      "execution_count": 46,
      "outputs": [
        {
          "output_type": "execute_result",
          "data": {
            "text/plain": [
              "3.459581903158004"
            ]
          },
          "metadata": {},
          "execution_count": 46
        }
      ]
    },
    {
      "cell_type": "markdown",
      "source": [
        "# Normal Equation"
      ],
      "metadata": {
        "id": "H61obJG61t_v"
      }
    },
    {
      "cell_type": "code",
      "source": [
        "from os import XATTR_REPLACE\n",
        "%matplotlib inline\n",
        "import numpy as np\n",
        "import pandas as pd\n",
        "from sklearn import preprocessing \n",
        "import matplotlib.pyplot as plt\n",
        "\n",
        "#Equation Normale \n",
        "Input = pd.read_csv(\"Input.csv\")\n",
        "x = np.array(Input)\n",
        "\n",
        "\n",
        "Output = pd.read_csv(\"Output.csv\")\n",
        "y = np.array(Output)\n",
        "\n",
        "#Ajouter une colonne de ones \n",
        "x = np.append(np.ones((np.size(x,0),1)), x, axis=1)\n",
        "# calcule X.T\n",
        "X_tran = np.transpose(x)\n",
        "#calcule de (X^T*X)^-1\n",
        "theta = np.linalg.inv(X_tran.dot(x))\n",
        "#calcule de (X^T . X)^-1 . X^T\n",
        "theta = theta.dot(X_tran)\n",
        "#calcule de (X^T . X)^-1 . X^T . Y\n",
        "theta = theta.dot(y)\n",
        "print(theta)"
      ],
      "metadata": {
        "id": "y9BbRbhj1fd0",
        "colab": {
          "base_uri": "https://localhost:8080/"
        },
        "outputId": "4456239f-0701-4adb-86c6-a7d2af02c823"
      },
      "execution_count": 40,
      "outputs": [
        {
          "output_type": "stream",
          "name": "stdout",
          "text": [
            "[[-4.21150401]\n",
            " [ 1.21354725]]\n"
          ]
        }
      ]
    },
    {
      "cell_type": "markdown",
      "source": [
        "### Hypothesis Function"
      ],
      "metadata": {
        "id": "Uj6fmuR02JrI"
      }
    },
    {
      "cell_type": "code",
      "source": [
        "X =x [:,1]\n",
        "Y =y\n",
        "plt.scatter(X, Y, label= \"Houses\", color= \"red\",  marker= \"o\", s=15) \n",
        "y_tmp=np.zeros((np.size(y),1))\n",
        "for j in range (np.size(y_tmp)):\n",
        " y_tmp[j][0]=theta[0]+theta[1]*x [j][1]\n",
        "h=y_tmp\n",
        "plt.xlabel('Size') \n",
        "plt.ylabel('Price') \n",
        "plt.title('Hypothesis function') \n",
        "plt.plot(X,h,label=\"hypothesis\")\n",
        "plt.legend() \n",
        "plt.show() "
      ],
      "metadata": {
        "colab": {
          "base_uri": "https://localhost:8080/",
          "height": 295
        },
        "id": "gF4vX0oj2T56",
        "outputId": "36474aa4-8f62-4e34-b344-64e263603a49"
      },
      "execution_count": 41,
      "outputs": [
        {
          "output_type": "display_data",
          "data": {
            "text/plain": [
              "<Figure size 432x288 with 1 Axes>"
            ],
            "image/png": "[encoded data removed]"
          },
          "metadata": {
            "needs_background": "light"
          }
        }
      ]
    },
    {
      "cell_type": "code",
      "source": [
        "cost = (1/(2*len(X)))*np.sum(np.square(h - Y))\n",
        "cost"
      ],
      "metadata": {
        "colab": {
          "base_uri": "https://localhost:8080/"
        },
        "id": "X22VEKVzSU-W",
        "outputId": "ff76167f-4d87-45ec-c34f-66b6b018eadd"
      },
      "execution_count": 42,
      "outputs": [
        {
          "output_type": "execute_result",
          "data": {
            "text/plain": [
              "3.4595819031580044"
            ]
          },
          "metadata": {},
          "execution_count": 42
        }
      ]
    },
    {
      "cell_type": "markdown",
      "source": [
        "# Polynomial Regression"
      ],
      "metadata": {
        "id": "GEEs3F1l2m7I"
      }
    },
    {
      "cell_type": "code",
      "source": [
        "import numpy as np\n",
        "from sklearn.linear_model import LinearRegression\n",
        "from sklearn.preprocessing import PolynomialFeatures\n",
        "\n",
        "\n",
        "dataset = pd.read_csv('position_salaries.csv')\n",
        "X = dataset.iloc[:, 1:2].values\n",
        "Y = dataset.iloc[:, 2].values\n",
        "\n",
        "#Linear Regression\n",
        "lin_reg = LinearRegression().fit(X,Y)\n",
        "y_pred = lin_reg.intercept_ + np.sum(lin_reg.coef_ * X, axis=1)\n",
        "\n",
        "#Polynomial Regression\n",
        "poly_reg = PolynomialFeatures(degree=4)\n",
        "X_poly = poly_reg.fit_transform(X)\n",
        "pol_reg = LinearRegression()\n",
        "pol_reg.fit(X_poly, Y)\n",
        "print(\"Done Training\")\n"
      ],
      "metadata": {
        "colab": {
          "base_uri": "https://localhost:8080/"
        },
        "id": "wqyR6Jdt5N1j",
        "outputId": "a35682f1-04ee-4923-c8ed-a3d62c8fd1ef"
      },
      "execution_count": 24,
      "outputs": [
        {
          "output_type": "stream",
          "name": "stdout",
          "text": [
            "Done Training\n"
          ]
        }
      ]
    },
    {
      "cell_type": "markdown",
      "source": [
        "### Hypothesis Function for Linear Regression"
      ],
      "metadata": {
        "id": "8MJqnedJBnnL"
      }
    },
    {
      "cell_type": "code",
      "source": [
        "print(f\"Linear score: {lin_reg.score(X, Y)}\")\n",
        "cost = (1/(2*len(X)))*np.sum(np.square(y_pred - Y))\n",
        "print(\"cost\",cost)\n",
        "plt.scatter(X, Y,c=\"r\",label=\"Houses\",marker= \"*\", s=15)\n",
        "plt.plot(X, y_pred, c=\"blue\",label=\"hypothesis\")\n",
        "plt.xlabel('Size') \n",
        "plt.ylabel('Price') \n",
        "plt.legend()\n",
        "plt.title('Hypothesis function') \n",
        "plt.show()"
      ],
      "metadata": {
        "colab": {
          "base_uri": "https://localhost:8080/",
          "height": 331
        },
        "id": "JH9WPUA26lEP",
        "outputId": "9398f185-29ac-42c5-fa61-f8530fdef4a7"
      },
      "execution_count": 25,
      "outputs": [
        {
          "output_type": "stream",
          "name": "stdout",
          "text": [
            "Linear score: 0.6690412331929895\n",
            "cost 13347939393.939392\n"
          ]
        },
        {
          "output_type": "display_data",
          "data": {
            "text/plain": [
              "<Figure size 432x288 with 1 Axes>"
            ],
            "image/png": "[encoded data removed]"
          },
          "metadata": {
            "needs_background": "light"
          }
        }
      ]
    },
    {
      "cell_type": "markdown",
      "source": [
        "### Hypothesis Function for Polynomial Regression"
      ],
      "metadata": {
        "id": "xThMqZ3dBz5J"
      }
    },
    {
      "cell_type": "code",
      "source": [
        "print(f\"Polynomial score: {pol_reg.score(X_poly, Y)}\")\n",
        "y_pred=pol_reg.predict(poly_reg.fit_transform(X))\n",
        "plt.scatter(X, Y,c=\"r\",label=\"Houses\",marker= \"*\", s=15)\n",
        "plt.plot(X, y_pred, c=\"blue\",label=\"hypothesis\")\n",
        "plt.xlabel('Size') \n",
        "plt.ylabel('Price') \n",
        "plt.legend()\n",
        "plt.title('Hypothesis function') \n",
        "plt.show()"
      ],
      "metadata": {
        "colab": {
          "base_uri": "https://localhost:8080/",
          "height": 313
        },
        "id": "Xa-_DUOh6p4p",
        "outputId": "39eb1883-fb56-4785-80ce-6b4de2ddc253"
      },
      "execution_count": 26,
      "outputs": [
        {
          "output_type": "stream",
          "name": "stdout",
          "text": [
            "Polynomial score: 0.9973922891706615\n"
          ]
        },
        {
          "output_type": "display_data",
          "data": {
            "text/plain": [
              "<Figure size 432x288 with 1 Axes>"
            ],
            "image/png": "[encoded data removed]"
          },
          "metadata": {
            "needs_background": "light"
          }
        }
      ]
    }
  ]
}