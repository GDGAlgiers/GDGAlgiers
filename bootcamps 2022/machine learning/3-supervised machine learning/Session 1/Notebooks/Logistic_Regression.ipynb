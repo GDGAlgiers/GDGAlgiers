{
  "nbformat": 4,
  "nbformat_minor": 0,
  "metadata": {
    "colab": {
      "name": "Logistic Regression",
      "provenance": [],
      "collapsed_sections": []
    },
    "kernelspec": {
      "name": "python3",
      "display_name": "Python 3"
    },
    "language_info": {
      "name": "python"
    }
  },
  "cells": [
    {
      "cell_type": "code",
      "execution_count": 32,
      "metadata": {
        "colab": {
          "base_uri": "https://localhost:8080/"
        },
        "id": "WIccLW6RuHCb",
        "outputId": "af7426c0-c85a-46c5-d250-c8a9ee1944d7"
      },
      "outputs": [
        {
          "output_type": "stream",
          "name": "stdout",
          "text": [
            "Done Training\n"
          ]
        }
      ],
      "source": [
        "import numpy as np\n",
        "import pandas as pd\n",
        "import matplotlib.pyplot as plt\n",
        "import seaborn as sns\n",
        "from sklearn.linear_model import LogisticRegression\n",
        "from sklearn.metrics import classification_report, confusion_matrix\n",
        "from matplotlib.pylab import rcParams\n",
        "from mlxtend.plotting import plot_decision_regions\n",
        "from sklearn.decomposition import PCA\n",
        "from sklearn import metrics\n",
        "from sklearn.metrics import accuracy_score \n",
        "\n",
        "data = pd.read_csv('shows.csv')\n",
        "\n",
        "d = {'UK': 0, 'USA': 1, 'N': 2}\n",
        "data['Nationality'] = data['Nationality'].map(d)\n",
        "d = {'YES': 1, 'NO': 0}\n",
        "data['Go'] = data['Go'].map(d)\n",
        "\n",
        "features = ['Age', 'Experience', 'Rank', 'Nationality']\n",
        "\n",
        "X = data[features]\n",
        "y = data['Go']\n",
        "\n",
        "# instantiate the model (using the default parameters)\n",
        "logreg = LogisticRegression(solver=\"lbfgs\")\n",
        "\n",
        "#For small datasets, ‘liblinear’ is a good choice, whereas ‘sag’ and ‘saga’ are faster for large ones;\n",
        "#For multiclass problems, only ‘newton-cg’, ‘sag’, ‘saga’ and ‘lbfgs’ handle multinomial loss;\n",
        "#‘liblinear’ is limited to one-versus-rest schemes.\n",
        "\n",
        "# fit the model with data\n",
        "logreg.fit(X,y)\n",
        "print(\"Done Training\")"
      ]
    },
    {
      "cell_type": "markdown",
      "source": [
        "## Report"
      ],
      "metadata": {
        "id": "MGrxk8jOv_aI"
      }
    },
    {
      "cell_type": "code",
      "source": [
        "y_pred=logreg.predict(X)\n",
        "print('Report')\n",
        "print('\\n',classification_report(y, y_pred))"
      ],
      "metadata": {
        "colab": {
          "base_uri": "https://localhost:8080/"
        },
        "id": "QC1sQKtovd99",
        "outputId": "82448abc-9cb3-4fec-a395-2e8b35a0c633"
      },
      "execution_count": 29,
      "outputs": [
        {
          "output_type": "stream",
          "name": "stdout",
          "text": [
            "Report\n",
            "\n",
            "               precision    recall  f1-score   support\n",
            "\n",
            "           0       0.83      0.83      0.83         6\n",
            "           1       0.86      0.86      0.86         7\n",
            "\n",
            "    accuracy                           0.85        13\n",
            "   macro avg       0.85      0.85      0.85        13\n",
            "weighted avg       0.85      0.85      0.85        13\n",
            "\n"
          ]
        }
      ]
    },
    {
      "cell_type": "markdown",
      "source": [
        "## Confusion Matrix"
      ],
      "metadata": {
        "id": "Xscz04G8wF9s"
      }
    },
    {
      "cell_type": "code",
      "source": [
        "cnf_matrix = metrics.confusion_matrix(y, y_pred)\n",
        "df_cm = pd.DataFrame(cnf_matrix, index = [i for i in range(0,2)], columns = [i for i in range(0,2)])\n",
        "sns.heatmap(df_cm, annot=True)\n",
        "plt.title(' \\n \\nAccuracy:{0:.3f}\\n'.format(accuracy_score(y, y_pred)))\n",
        "plt.ylabel('True label')\n",
        "plt.xlabel('Predicted label')\n",
        "plt.show()"
      ],
      "metadata": {
        "colab": {
          "base_uri": "https://localhost:8080/",
          "height": 612
        },
        "id": "Ns27Kysivi9p",
        "outputId": "0ff306c1-cefd-4b7c-c32b-ad17e44061f9"
      },
      "execution_count": 30,
      "outputs": [
        {
          "output_type": "display_data",
          "data": {
            "text/plain": [
              "<Figure size 648x648 with 2 Axes>"
            ],
            "image/png": "[encoded data removed]"
          },
          "metadata": {
            "needs_background": "light"
          }
        }
      ]
    },
    {
      "cell_type": "markdown",
      "source": [
        "## Decision Boundary"
      ],
      "metadata": {
        "id": "JuSCwnojwLkf"
      }
    },
    {
      "cell_type": "code",
      "source": [
        "rcParams['figure.figsize'] = 9,9\n",
        "plt.figure(3)   \n",
        "y = np.array(y,dtype='int')\n",
        "X= np.array(X)\n",
        "X_train_reduce=np.append(np.array(X[:,0:1]),np.array(X[:,1:2]), axis=1)#Reduce our dataset to two dimensions.\n",
        "logreg=logreg.fit(X_train_reduce, y)\n",
        "plot_decision_regions(X=X_train_reduce, y=y,clf=logreg, legend=2)\n",
        "plt.xlabel('Age')\n",
        "plt.ylabel('Experience')\n",
        "plt.legend(loc=\"best\")\n",
        "plt.title('Decision Boundary for our training set')    \n",
        "plt.show()"
      ],
      "metadata": {
        "colab": {
          "base_uri": "https://localhost:8080/",
          "height": 623
        },
        "id": "6X63vVr_vmDE",
        "outputId": "18ef21a4-db60-4f2b-95dd-039a32fa0113"
      },
      "execution_count": 31,
      "outputs": [
        {
          "output_type": "stream",
          "name": "stderr",
          "text": [
            "/usr/local/lib/python3.7/dist-packages/mlxtend/plotting/decision_regions.py:244: MatplotlibDeprecationWarning: Passing unsupported keyword arguments to axis() will raise a TypeError in 3.3.\n",
            "  ax.axis(xmin=xx.min(), xmax=xx.max(), y_min=yy.min(), y_max=yy.max())\n"
          ]
        },
        {
          "output_type": "display_data",
          "data": {
            "text/plain": [
              "<Figure size 648x648 with 1 Axes>"
            ],
            "image/png": "[encoded data removed]"
          },
          "metadata": {
            "needs_background": "light"
          }
        }
      ]
    }
  ]
}