{
  "nbformat": 4,
  "nbformat_minor": 0,
  "metadata": {
    "colab": {
      "name": "K-Nearest Neighbors",
      "provenance": []
    },
    "kernelspec": {
      "name": "python3",
      "display_name": "Python 3"
    },
    "language_info": {
      "name": "python"
    }
  },
  "cells": [
    {
      "cell_type": "code",
      "execution_count": 42,
      "metadata": {
        "colab": {
          "base_uri": "https://localhost:8080/"
        },
        "id": "WIccLW6RuHCb",
        "outputId": "ca778bfd-71c7-4530-b46c-e66ef2844525"
      },
      "outputs": [
        {
          "output_type": "stream",
          "name": "stdout",
          "text": [
            "    Age  Experience  Rank  Nationality  Go\n",
            "0    36          10     9            0   0\n",
            "1    42          12     4            1   0\n",
            "2    23           4     6            2   0\n",
            "3    52           4     4            1   0\n",
            "4    43          21     8            1   1\n",
            "5    44          14     5            0   0\n",
            "6    66           3     7            2   1\n",
            "7    35          14     9            0   1\n",
            "8    52          13     7            2   1\n",
            "9    35           5     9            2   1\n",
            "10   24           3     5            1   0\n",
            "11   18           3     7            0   1\n",
            "12   45           9     9            0   1\n"
          ]
        }
      ],
      "source": [
        "import numpy as np\n",
        "import pandas as pd\n",
        "import seaborn as sns\n",
        "import matplotlib.pyplot as plt\n",
        "from sklearn.neighbors import KNeighborsClassifier\n",
        "from sklearn.metrics import classification_report, confusion_matrix\n",
        "from matplotlib.pylab import rcParams\n",
        "from mlxtend.plotting import plot_decision_regions\n",
        "from sklearn.decomposition import PCA\n",
        "from sklearn import metrics\n",
        "from sklearn.metrics import accuracy_score \n",
        "\n",
        "data = pd.read_csv('shows.csv')\n",
        "data2=data.copy()\n",
        "\n",
        "d = {'UK': 0, 'USA': 1, 'N': 2}\n",
        "data['Nationality'] = data['Nationality'].map(d)\n",
        "d = {'YES': 1, 'NO': 0}\n",
        "data['Go'] = data['Go'].map(d)\n",
        "\n",
        "features = ['Age', 'Experience', 'Rank', 'Nationality']\n",
        "\n",
        "X = data[features]\n",
        "y = data['Go']\n",
        "\n",
        "\n",
        "\n",
        "#print(data2)\n",
        "print(data)\n"
      ]
    },
    {
      "cell_type": "code",
      "source": [
        "model = KNeighborsClassifier(n_neighbors=4,weights='uniform')\n",
        "model.fit(X, y)\n",
        "print(\"Done Training\")"
      ],
      "metadata": {
        "colab": {
          "base_uri": "https://localhost:8080/"
        },
        "id": "o4itkC8QNW_q",
        "outputId": "e552386d-e869-4ff8-fd4d-e7aa9f7da5d4"
      },
      "execution_count": 60,
      "outputs": [
        {
          "output_type": "stream",
          "name": "stdout",
          "text": [
            "Done Training\n"
          ]
        }
      ]
    },
    {
      "cell_type": "markdown",
      "source": [
        "## Confusion Matrix"
      ],
      "metadata": {
        "id": "Xscz04G8wF9s"
      }
    },
    {
      "cell_type": "code",
      "source": [
        "y_pred=model.predict(X)\n",
        "print(\"Prediction:\",y_pred)\n",
        "\n",
        "\n",
        "cnf_matrix = metrics.confusion_matrix(y, y_pred)\n",
        "df_cm = pd.DataFrame(cnf_matrix, index = [i for i in range(0,2)], columns = [i for i in range(0,2)])\n",
        "sns.heatmap(df_cm, annot=True)\n",
        "plt.title(' \\n \\nAccuracy:{0:.3f}\\n'.format(accuracy_score(y, y_pred)))\n",
        "plt.ylabel('Predicted label')\n",
        "plt.xlabel('True label')\n",
        "plt.show()"
      ],
      "metadata": {
        "colab": {
          "base_uri": "https://localhost:8080/",
          "height": 630
        },
        "id": "Ns27Kysivi9p",
        "outputId": "2eb31a2b-235e-4526-dfc7-63f99206b14e"
      },
      "execution_count": 61,
      "outputs": [
        {
          "output_type": "stream",
          "name": "stdout",
          "text": [
            "Prediction: [0 0 0 0 0 0 1 0 0 1 0 0 0]\n"
          ]
        },
        {
          "output_type": "display_data",
          "data": {
            "text/plain": [
              "<Figure size 648x648 with 2 Axes>"
            ],
            "image/png": "[encoded data removed]"
          },
          "metadata": {
            "needs_background": "light"
          }
        }
      ]
    },
    {
      "cell_type": "markdown",
      "source": [
        "## Decision Boundary"
      ],
      "metadata": {
        "id": "JuSCwnojwLkf"
      }
    },
    {
      "cell_type": "code",
      "source": [
        "rcParams['figure.figsize'] = 9,9  # Reduce our dataset to two dimensions.\n",
        "y = np.array(y,dtype='int')\n",
        "X= np.array(X)\n",
        "X_train_reduce=np.append(np.array(X[:,0:1]),np.array(X[:,1:2]), axis=1) # Reduce our dataset to two dimensions.\n",
        "model=model.fit(X_train_reduce, y)\n",
        "plot_decision_regions(X=X_train_reduce, y=y,clf=model, legend=2)\n",
        "plt.xlabel('Age')\n",
        "plt.ylabel('Experience')\n",
        "plt.legend(loc=\"best\")\n",
        "plt.title('Decision Boundary for our training set')    \n",
        "plt.show()"
      ],
      "metadata": {
        "colab": {
          "base_uri": "https://localhost:8080/",
          "height": 623
        },
        "id": "6X63vVr_vmDE",
        "outputId": "68f5ab18-b15f-49c4-e623-d203b23894ee"
      },
      "execution_count": 62,
      "outputs": [
        {
          "output_type": "stream",
          "name": "stderr",
          "text": [
            "/usr/local/lib/python3.7/dist-packages/mlxtend/plotting/decision_regions.py:244: MatplotlibDeprecationWarning: Passing unsupported keyword arguments to axis() will raise a TypeError in 3.3.\n",
            "  ax.axis(xmin=xx.min(), xmax=xx.max(), y_min=yy.min(), y_max=yy.max())\n"
          ]
        },
        {
          "output_type": "display_data",
          "data": {
            "text/plain": [
              "<Figure size 648x648 with 1 Axes>"
            ],
            "image/png": "[encoded data removed]"
          },
          "metadata": {
            "needs_background": "light"
          }
        }
      ]
    },
    {
      "cell_type": "code",
      "source": [
        "print('Report')\n",
        "print('\\n',classification_report(y, y_pred))"
      ],
      "metadata": {
        "colab": {
          "base_uri": "https://localhost:8080/"
        },
        "id": "t1-ZfzezDyli",
        "outputId": "b0ba751a-054b-4fd3-ee53-b17b1d061544"
      },
      "execution_count": 38,
      "outputs": [
        {
          "output_type": "stream",
          "name": "stdout",
          "text": [
            "Report\n",
            "\n",
            "               precision    recall  f1-score   support\n",
            "\n",
            "           0       1.00      1.00      1.00         6\n",
            "           1       1.00      1.00      1.00         7\n",
            "\n",
            "    accuracy                           1.00        13\n",
            "   macro avg       1.00      1.00      1.00        13\n",
            "weighted avg       1.00      1.00      1.00        13\n",
            "\n"
          ]
        }
      ]
    }
  ]
}