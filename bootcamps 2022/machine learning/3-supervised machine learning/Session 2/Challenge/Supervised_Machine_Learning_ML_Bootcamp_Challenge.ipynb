{
  "nbformat": 4,
  "nbformat_minor": 0,
  "metadata": {
    "colab": {
      "name": "Supervised Machine Learning (ML Bootcamp Challenge)",
      "provenance": [],
      "collapsed_sections": []
    },
    "kernelspec": {
      "name": "python3",
      "display_name": "Python 3"
    },
    "language_info": {
      "name": "python"
    }
  },
  "cells": [
    {
      "cell_type": "markdown",
      "source": [
        "In this challenge you will have to implement Linear Regression algorithm for one variable using what we’ve seen in the first session.\n",
        "\n",
        "Database: https://drive.google.com/drive/folders/"
      ],
      "metadata": {
        "id": "K--MFgdY7OKd"
      }
    },
    {
      "cell_type": "code",
      "source": [
        "\"\"\" PART 1 \n",
        "\tImporting Libraries \"\"\"\n",
        "%matplotlib inline\n",
        "import numpy as np\n",
        "import pandas as pd\n",
        "from sklearn import preprocessing \n",
        "import matplotlib.pyplot as plt\n",
        "\n",
        "    \n",
        "#Hypothesis function\n",
        "def Calcul_Hypothesis(X,theta):\n",
        " hypothesis= theta.dot(X)\n",
        " return hypothesis\n",
        "    \n",
        "#Cost function training set\n",
        "def calcule_cost(X,Y,theta):\n",
        "    global_cost  = 0\n",
        "    for i in range(len(X)):\n",
        "        global_cost= 1/2*len(X)\n",
        "        \n",
        "    return global_cost\n",
        "\n",
        "#Gradiant descent\n",
        "def GradiantDescent(X,Y,theta,alpha,iteration):\n",
        " m=len(X)\n",
        " cost=np.zeros(iteration)\n",
        " for i in range(iteration):\n",
        "    theta = \n",
        "    tmp_cost=\n",
        "    cost[i]+=\n",
        "    \n",
        "  \n",
        " # display theta \n",
        " print(\"Gradiant Descent :\" )\n",
        " print(\"\\n\\n The optimal values of theta : \\n\",theta)\n",
        "\n",
        "\n",
        " output=calcule_cost(X,Y,theta)\n",
        "#display our cost\n",
        " print(\"\\n Cost value :\",output)\n",
        "\n",
        "    \n",
        "\n",
        " return theta, cost\n",
        "\n",
        "\n",
        "def Hypothesis_plot_function(X,Y,theta):\n",
        " \n",
        "\n",
        " plt.xlabel('Size') \n",
        " plt.ylabel('Price') \n",
        " plt.title('Hypothesis function') \n",
        " plt.show()\n",
        "\n",
        "\n",
        "\n",
        "def Cost_plot_function(iteration,cost):\n",
        "\n",
        " plt.xlabel('Eposh')\n",
        " plt.ylabel('Cost')\n",
        " plt.title('Cost function: j(x)')\n",
        " plt.plot(range(iteration),cost,c='red')\n",
        "\n",
        "\n",
        "\n",
        "#MAIN\n",
        "\n",
        "\"\"\" PART 2 \n",
        "\tImporting Data \"\"\"\n",
        "\n",
        "Input_data = pd.read_csv(\"link\")\n",
        "Output_data = pd.read_csv(\"link\")\n",
        "\n",
        "\n",
        "\n",
        "\n",
        "\n",
        "\"\"\" PART 3 \n",
        "\tGradiant Descent \"\"\"\n",
        "\n",
        "#theta initialization\n",
        "theta=\n",
        "\n",
        "\n",
        "#Alpha \n",
        "alpha = \n",
        "        \n",
        "#numbers of iteration\n",
        "iteration=\n",
        "\n",
        "\n",
        "\n",
        "#call Gradiant Descent \n",
        "theta, cost = GradiantDescent(X,Y,theta,alpha,iteration)\n",
        "#call Hypothesis plot function\n",
        "Hypothesis_plot_function(X,Y,theta)\n",
        "#call Cost plot function\n",
        "Cost_plot_function(iteration,cost)\n",
        "      \n"
      ],
      "metadata": {
        "id": "u5B5N1G97TR-",
        "colab": {
          "base_uri": "https://localhost:8080/",
          "height": 736
        },
        "outputId": "a85ef603-4a94-4186-a7af-c20fca4fed50"
      },
      "execution_count": null,
      "outputs": [
        {
          "output_type": "stream",
          "name": "stdout",
          "text": [
            "Gradiant Descent :\n",
            "\n",
            "\n",
            " The optimal values of theta : \n",
            " [[0.84817926 0.84817926]]\n",
            "\n",
            " Trainig set\n",
            "\n",
            " Cost value : 9.673484340145315\n"
          ]
        },
        {
          "output_type": "display_data",
          "data": {
            "text/plain": [
              "<Figure size 432x288 with 1 Axes>"
            ],
            "image/png": "[encoded data removed]"
          },
          "metadata": {
            "needs_background": "light"
          }
        },
        {
          "output_type": "display_data",
          "data": {
            "text/plain": [
              "<Figure size 432x288 with 1 Axes>"
            ],
            "image/png": "[encoded data removed]"
          },
          "metadata": {
            "needs_background": "light"
          }
        }
      ]
    }
  ]
}