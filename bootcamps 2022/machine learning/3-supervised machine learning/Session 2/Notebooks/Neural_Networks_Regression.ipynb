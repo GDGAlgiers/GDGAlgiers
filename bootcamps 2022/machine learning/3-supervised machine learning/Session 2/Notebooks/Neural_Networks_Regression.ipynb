{
  "nbformat": 4,
  "nbformat_minor": 0,
  "metadata": {
    "colab": {
      "name": "Neural Networks (Regression)",
      "provenance": [],
      "collapsed_sections": []
    },
    "kernelspec": {
      "name": "python3",
      "display_name": "Python 3"
    },
    "language_info": {
      "name": "python"
    }
  },
  "cells": [
    {
      "cell_type": "markdown",
      "source": [
        "# Regression"
      ],
      "metadata": {
        "id": "rhv3arSoDwQR"
      }
    },
    {
      "cell_type": "code",
      "execution_count": 11,
      "metadata": {
        "id": "WIccLW6RuHCb"
      },
      "outputs": [],
      "source": [
        "#Import needed labraries\n",
        "%matplotlib inline\n",
        "import numpy as np\n",
        "import pandas as pd\n",
        "import matplotlib.pyplot as plt\n",
        "from sklearn.model_selection import train_test_split \n",
        "from sklearn.neural_network import MLPClassifier,MLPRegressor\n",
        "from sklearn import metrics\n",
        "from sklearn.metrics import  classification_report,confusion_matrix\n",
        "import seaborn as sns\n",
        "from sklearn.metrics import accuracy_score \n",
        "from mlxtend.plotting import plot_decision_regions\n",
        "from sklearn.decomposition import PCA\n",
        "from matplotlib.pylab import rcParams\n",
        "\n",
        "\n",
        "\n",
        "#Import our dataset after age scaling \n",
        "data_set = pd.read_excel('ENB2012_data.xlsx')\n",
        "#Setting our features in X \n",
        "X = data_set.drop('Y1', axis=1)\n",
        "X = data_set.drop('Y2', axis=1)\n",
        "#Setting our output1 in Y1\n",
        "Y = data_set['Y1']\n",
        "\n",
        "\n",
        "#Splitting our data into of trainig set and on testing set\n",
        "X_train, X_test, y_train, y_test = train_test_split(X, Y, random_state=1)\n"
      ]
    },
    {
      "cell_type": "markdown",
      "source": [
        "##Training"
      ],
      "metadata": {
        "id": "QHgc2jilN8A4"
      }
    },
    {
      "cell_type": "code",
      "source": [
        "#Neural Network with 3 layers layer1=>200  layer2=>100  layer3=>100  alpha=0.0001 max iter=10000 \n",
        "mlp = MLPRegressor(hidden_layer_sizes = [100,50,20],max_iter=10000, activation = 'logistic',solver='adam',  random_state = 0).fit(X_train, y_train)\n",
        "print(X_train.shape)\n",
        "print(X_test.shape)"
      ],
      "metadata": {
        "colab": {
          "base_uri": "https://localhost:8080/"
        },
        "id": "jAAsxyYwI2Uj",
        "outputId": "ea787958-53aa-4d89-be47-3679c9fd98ea"
      },
      "execution_count": 20,
      "outputs": [
        {
          "output_type": "stream",
          "name": "stdout",
          "text": [
            "(576, 9)\n",
            "(192, 9)\n"
          ]
        }
      ]
    },
    {
      "cell_type": "markdown",
      "source": [
        "\n",
        "**solver{‘lbfgs’, ‘sgd’, ‘adam’}, default=’adam’** : The solver for weight optimization.\n",
        "* ‘lbfgs’ is an optimizer in the family of quasi-Newton methods.\n",
        "* ‘sgd’ refers to stochastic gradient descent.\n",
        "* ‘adam’ refers to a stochastic gradient-based optimizer proposed by Kingma, Diederik, and Jimmy Ba\n",
        "\n",
        "**Activation{‘identity’, ‘logistic’, ‘tanh’, ‘relu’}, default=’relu’**: Activation function for the hidden layer."
      ],
      "metadata": {
        "id": "JtPV9qKzJFH0"
      }
    },
    {
      "cell_type": "markdown",
      "source": [
        "## Prediction Accuracy"
      ],
      "metadata": {
        "id": "9fe7BtieOA0y"
      }
    },
    {
      "cell_type": "code",
      "source": [
        "train_prediction = mlp.score(X_train,y_train)\n",
        "print('The training set accuracy is:',train_prediction)\n",
        "test_prediction = mlp.score(X_test,y_test)\n",
        "print('The testing set accuracy is:',test_prediction)"
      ],
      "metadata": {
        "colab": {
          "base_uri": "https://localhost:8080/"
        },
        "id": "PDiVYioLJh1O",
        "outputId": "04b3a3aa-f9a6-4035-e609-ce134d99c31d"
      },
      "execution_count": 21,
      "outputs": [
        {
          "output_type": "stream",
          "name": "stdout",
          "text": [
            "The training set accuracy is: 0.981578908766803\n",
            "The testing set accuracy is: 0.98051881278501\n"
          ]
        }
      ]
    },
    {
      "cell_type": "markdown",
      "source": [
        "## Model Loss curve for Heating Load (Y1)"
      ],
      "metadata": {
        "id": "JuSCwnojwLkf"
      }
    },
    {
      "cell_type": "code",
      "source": [
        "pd.DataFrame(mlp.loss_curve_).plot(title=\"Model Loss curve for Heating Load (Y1)\")\n",
        "plt.xlabel('Number of iterations')\n",
        "plt.ylabel('Loss')\n",
        "plt.legend(\"cost\",loc=\"best\")\n",
        "m=len(mlp.loss_curve_)-1\n",
        "print(\"Cost for Heating Load (Y1)\",mlp.loss_curve_[m])"
      ],
      "metadata": {
        "colab": {
          "base_uri": "https://localhost:8080/",
          "height": 313
        },
        "id": "6X63vVr_vmDE",
        "outputId": "201ebf21-c7ed-43ff-a468-3a01e03ed6a3"
      },
      "execution_count": 17,
      "outputs": [
        {
          "output_type": "stream",
          "name": "stdout",
          "text": [
            "Cost for Heating Load (Y1) 0.9300396556139137\n"
          ]
        },
        {
          "output_type": "display_data",
          "data": {
            "text/plain": [
              "<Figure size 432x288 with 1 Axes>"
            ],
            "image/png": "[encoded data removed]"
          },
          "metadata": {
            "needs_background": "light"
          }
        }
      ]
    }
  ]
}