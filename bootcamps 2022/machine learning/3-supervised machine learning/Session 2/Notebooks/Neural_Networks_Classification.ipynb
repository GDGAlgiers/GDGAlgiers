{
  "nbformat": 4,
  "nbformat_minor": 0,
  "metadata": {
    "colab": {
      "name": "Neural Networks (Classification)",
      "provenance": [],
      "collapsed_sections": []
    },
    "kernelspec": {
      "name": "python3",
      "display_name": "Python 3"
    },
    "language_info": {
      "name": "python"
    }
  },
  "cells": [
    {
      "cell_type": "markdown",
      "source": [
        "# Classification"
      ],
      "metadata": {
        "id": "rhv3arSoDwQR"
      }
    },
    {
      "cell_type": "code",
      "execution_count": 39,
      "metadata": {
        "id": "WIccLW6RuHCb",
        "colab": {
          "base_uri": "https://localhost:8080/"
        },
        "outputId": "ba1e62d4-8b39-4665-9ea1-e7fdb644a59e"
      },
      "outputs": [
        {
          "output_type": "stream",
          "name": "stdout",
          "text": [
            "Keys of iris_dataset: \n",
            "dict_keys(['data', 'target', 'frame', 'target_names', 'DESCR', 'feature_names', 'filename', 'data_module'])\n",
            "feature_names: ['sepal length (cm)', 'sepal width (cm)', 'petal length (cm)', 'petal width (cm)']\n",
            "Target names: ['setosa' 'versicolor' 'virginica']\n",
            "Training set\n",
            "X_train shape: (112, 4)\n",
            "y_train shape: (112,)\n",
            "Test set\n",
            "X_test shape: (38, 4)\n",
            "y_test shape: (38,)\n"
          ]
        }
      ],
      "source": [
        "%matplotlib inline\n",
        "import numpy as np\n",
        "import pandas as pd\n",
        "import matplotlib.pyplot as plt\n",
        "import mglearn\n",
        "from sklearn.datasets import load_iris \n",
        "from sklearn.model_selection import train_test_split \n",
        "from sklearn.neural_network import MLPClassifier \n",
        "from sklearn import metrics\n",
        "import matplotlib.pyplot as plt\n",
        "from sklearn.metrics import  confusion_matrix,classification_report\n",
        "from sklearn.metrics import accuracy_score \n",
        "import seaborn as sns\n",
        "from matplotlib.pylab import rcParams\n",
        "from mlxtend.plotting import plot_decision_regions\n",
        "\n",
        "\n",
        "iris_dataset = load_iris()\n",
        "\n",
        "print(\"Keys of iris_dataset: \\n{}\".format(iris_dataset.keys()))\n",
        "print(\"feature_names: {}\".format(iris_dataset['feature_names']))\n",
        "print(\"Target names: {}\".format(iris_dataset['target_names']))\n",
        "\n",
        "\n",
        "#Split dataset into 75% of trainig data and 25% test data\n",
        "X_train, X_test, y_train, y_test = train_test_split(\n",
        "        iris_dataset['data'], iris_dataset['target'], random_state=0)\n",
        "\n",
        "print(\"Training set\")\n",
        "print(\"X_train shape: {}\".format(X_train.shape)) \n",
        "print(\"y_train shape: {}\".format(y_train.shape))\n",
        "print(\"Test set\")\n",
        "print(\"X_test shape: {}\".format(X_test.shape)) \n",
        "print(\"y_test shape: {}\".format(y_test.shape))"
      ]
    },
    {
      "cell_type": "markdown",
      "source": [
        "##Training"
      ],
      "metadata": {
        "id": "QHgc2jilN8A4"
      }
    },
    {
      "cell_type": "code",
      "source": [
        "clf = MLPClassifier(solver='lbfgs', alpha=1e-5, hidden_layer_sizes=(3, 3), random_state=1).fit(X_train, y_train)\n",
        "print(\"Done Training\")"
      ],
      "metadata": {
        "colab": {
          "base_uri": "https://localhost:8080/"
        },
        "id": "jAAsxyYwI2Uj",
        "outputId": "1d33a211-c598-4c78-80ec-a0d7f18af296"
      },
      "execution_count": 42,
      "outputs": [
        {
          "output_type": "stream",
          "name": "stdout",
          "text": [
            "Done Training\n"
          ]
        }
      ]
    },
    {
      "cell_type": "markdown",
      "source": [
        "\n",
        "**solver{‘lbfgs’, ‘sgd’, ‘adam’}, default=’adam’** : The solver for weight optimization.\n",
        "* ‘lbfgs’ is an optimizer in the family of quasi-Newton methods.\n",
        "* ‘sgd’ refers to stochastic gradient descent.\n",
        "* ‘adam’ refers to a stochastic gradient-based optimizer proposed by Kingma, Diederik, and Jimmy Ba\n",
        "\n",
        "**Activation{‘identity’, ‘logistic’, ‘tanh’, ‘relu’}, default=’relu’**: Activation function for the hidden layer."
      ],
      "metadata": {
        "id": "JtPV9qKzJFH0"
      }
    },
    {
      "cell_type": "markdown",
      "source": [
        "## Prediction Accuracy"
      ],
      "metadata": {
        "id": "9fe7BtieOA0y"
      }
    },
    {
      "cell_type": "code",
      "source": [
        "train_prediction = clf.predict(X_train)\n",
        "print('The training set accuracy is:',metrics.accuracy_score(train_prediction,y_train))\n",
        "test_prediction = clf.predict(X_test)\n",
        "print('The testing set accuracy is:',metrics.accuracy_score(test_prediction,y_test))"
      ],
      "metadata": {
        "colab": {
          "base_uri": "https://localhost:8080/"
        },
        "id": "PDiVYioLJh1O",
        "outputId": "7d4b8759-f17c-4e0c-ee7f-cbd7f548a657"
      },
      "execution_count": 43,
      "outputs": [
        {
          "output_type": "stream",
          "name": "stdout",
          "text": [
            "The training set accuracy is: 1.0\n",
            "The testing set accuracy is: 0.9736842105263158\n"
          ]
        }
      ]
    },
    {
      "cell_type": "markdown",
      "source": [
        "## Report"
      ],
      "metadata": {
        "id": "MGrxk8jOv_aI"
      }
    },
    {
      "cell_type": "code",
      "source": [
        "print('Report')\n",
        "print('\\n',classification_report(y_test, test_prediction))"
      ],
      "metadata": {
        "colab": {
          "base_uri": "https://localhost:8080/"
        },
        "id": "x8Eh-miDNUWa",
        "outputId": "d7546a1c-4fb9-4856-b1a9-93241020df34"
      },
      "execution_count": 44,
      "outputs": [
        {
          "output_type": "stream",
          "name": "stdout",
          "text": [
            "Report\n",
            "\n",
            "               precision    recall  f1-score   support\n",
            "\n",
            "           0       1.00      1.00      1.00        13\n",
            "           1       1.00      0.94      0.97        16\n",
            "           2       0.90      1.00      0.95         9\n",
            "\n",
            "    accuracy                           0.97        38\n",
            "   macro avg       0.97      0.98      0.97        38\n",
            "weighted avg       0.98      0.97      0.97        38\n",
            "\n"
          ]
        }
      ]
    },
    {
      "cell_type": "markdown",
      "source": [
        "## Confusion Matrix"
      ],
      "metadata": {
        "id": "Xscz04G8wF9s"
      }
    },
    {
      "cell_type": "code",
      "source": [
        "confusion_mc = confusion_matrix(y_test,test_prediction)\n",
        "\n",
        "df_cm = pd.DataFrame(confusion_mc, \n",
        "                     index = [i for i in range(0,3)], columns = [i for i in range(0,3)])\n",
        "\n",
        "plt.figure(figsize=(5.5,4))\n",
        "\n",
        "sns.heatmap(df_cm, annot=True)\n",
        "\n",
        "\n",
        "plt.title('Neural Network \\nAccuracy:{0:.3f}'.format(accuracy_score(y_test, test_prediction)))\n",
        "plt.ylabel('True label')\n",
        "plt.xlabel('Predicted label')"
      ],
      "metadata": {
        "colab": {
          "base_uri": "https://localhost:8080/",
          "height": 328
        },
        "id": "wO3ANuSsNyC3",
        "outputId": "8437185e-770a-4bf9-ef73-b43a6edd843f"
      },
      "execution_count": 45,
      "outputs": [
        {
          "output_type": "execute_result",
          "data": {
            "text/plain": [
              "Text(0.5, 15.0, 'Predicted label')"
            ]
          },
          "metadata": {},
          "execution_count": 45
        },
        {
          "output_type": "display_data",
          "data": {
            "text/plain": [
              "<Figure size 396x288 with 2 Axes>"
            ],
            "image/png": "[encoded data removed]"
          },
          "metadata": {
            "needs_background": "light"
          }
        }
      ]
    },
    {
      "cell_type": "markdown",
      "source": [
        "## Decision Boundary"
      ],
      "metadata": {
        "id": "JuSCwnojwLkf"
      }
    },
    {
      "cell_type": "code",
      "source": [
        "rcParams['figure.figsize'] = 9,9\n",
        "plt.figure(3)   \n",
        "y = np.array(y_test,dtype='int')\n",
        "X= np.array(X_test)\n",
        "X_test_reduce=np.append(np.array(X[:,0:1]),np.array(X[:,1:2]), axis=1)#Reduce our dataset to two dimensions.\n",
        "clf=clf.fit(X_test_reduce, y)\n",
        "plot_decision_regions(X=X_test_reduce, y=y_test,clf=clf, legend=2)\n",
        "plt.xlabel('Age')\n",
        "plt.ylabel('Experience')\n",
        "plt.legend(loc=\"best\")\n",
        "plt.title('Decision Boundary for our testing set')    \n",
        "plt.show()"
      ],
      "metadata": {
        "colab": {
          "base_uri": "https://localhost:8080/",
          "height": 623
        },
        "id": "6X63vVr_vmDE",
        "outputId": "5ab7fc74-f6fc-4f38-bf18-8e7b5b8569a7"
      },
      "execution_count": 46,
      "outputs": [
        {
          "output_type": "stream",
          "name": "stderr",
          "text": [
            "/usr/local/lib/python3.7/dist-packages/mlxtend/plotting/decision_regions.py:244: MatplotlibDeprecationWarning: Passing unsupported keyword arguments to axis() will raise a TypeError in 3.3.\n",
            "  ax.axis(xmin=xx.min(), xmax=xx.max(), y_min=yy.min(), y_max=yy.max())\n"
          ]
        },
        {
          "output_type": "display_data",
          "data": {
            "text/plain": [
              "<Figure size 648x648 with 1 Axes>"
            ],
            "image/png": "[encoded data removed]"
          },
          "metadata": {
            "needs_background": "light"
          }
        }
      ]
    }
  ]
}